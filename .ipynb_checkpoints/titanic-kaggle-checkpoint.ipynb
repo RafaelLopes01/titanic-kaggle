{
 "cells": [
  {
   "cell_type": "markdown",
   "metadata": {
    "colab_type": "text",
    "id": "cyODX5V2EqCe"
   },
   "source": [
    "## Competição da base de dados do Titanic na plataforma do Kaggle."
   ]
  },
  {
   "cell_type": "markdown",
   "metadata": {
    "colab_type": "text",
    "id": "FF4gE5eGEu_m"
   },
   "source": [
    "Importação das bibliotecas, montagem do Drive e importação da base"
   ]
  },
  {
   "cell_type": "code",
   "execution_count": 0,
   "metadata": {
    "colab": {},
    "colab_type": "code",
    "id": "G0y8rd4iEGkW"
   },
   "outputs": [],
   "source": [
    "#IMPORT\n",
    "import pandas as pd\n",
    "import numpy as np"
   ]
  },
  {
   "cell_type": "code",
   "execution_count": 0,
   "metadata": {
    "colab": {
     "base_uri": "https://localhost:8080/",
     "height": 35
    },
    "colab_type": "code",
    "executionInfo": {
     "elapsed": 1737,
     "status": "ok",
     "timestamp": 1590863904980,
     "user": {
      "displayName": "Rafael A. L. Alves",
      "photoUrl": "https://lh3.googleusercontent.com/a-/AOh14GiZ6qN6sSQySXTuiKphHC6yJ5ujEhL-6oXqcgIq=s64",
      "userId": "04648053621155783581"
     },
     "user_tz": 180
    },
    "id": "LBowLjYPEeKb",
    "outputId": "6b58578c-7f30-42ef-8cc0-ea70463f4a2b"
   },
   "outputs": [
    {
     "name": "stdout",
     "output_type": "stream",
     "text": [
      "Drive already mounted at /content/drive; to attempt to forcibly remount, call drive.mount(\"/content/drive\", force_remount=True).\n"
     ]
    }
   ],
   "source": [
    "# MONTANDO O DRIVE\n",
    "from google.colab import drive\n",
    "drive.mount ('/content/drive')"
   ]
  },
  {
   "cell_type": "code",
   "execution_count": 0,
   "metadata": {
    "colab": {},
    "colab_type": "code",
    "id": "q_duhkuEKx1h"
   },
   "outputs": [],
   "source": [
    "# BASES\n",
    "train = pd.read_csv(\"https://raw.githubusercontent.com/RafaelLopes01/titanic-kaggle/master/data/train.csv\")\n",
    "test = pd.read_csv(\"https://raw.githubusercontent.com/RafaelLopes01/titanic-kaggle/master/data/test.csv\")"
   ]
  },
  {
   "cell_type": "markdown",
   "metadata": {
    "colab_type": "text",
    "id": "ko088dDRMq0d"
   },
   "source": [
    "## Tratamento dos Dados"
   ]
  },
  {
   "cell_type": "code",
   "execution_count": 0,
   "metadata": {
    "colab": {
     "base_uri": "https://localhost:8080/",
     "height": 407
    },
    "colab_type": "code",
    "executionInfo": {
     "elapsed": 635,
     "status": "ok",
     "timestamp": 1590863989497,
     "user": {
      "displayName": "Rafael A. L. Alves",
      "photoUrl": "https://lh3.googleusercontent.com/a-/AOh14GiZ6qN6sSQySXTuiKphHC6yJ5ujEhL-6oXqcgIq=s64",
      "userId": "04648053621155783581"
     },
     "user_tz": 180
    },
    "id": "_5qTXKYdR0IT",
    "outputId": "946db870-6846-4e95-cc63-08761aec814e"
   },
   "outputs": [
    {
     "data": {
      "text/html": [
       "<div>\n",
       "<style scoped>\n",
       "    .dataframe tbody tr th:only-of-type {\n",
       "        vertical-align: middle;\n",
       "    }\n",
       "\n",
       "    .dataframe tbody tr th {\n",
       "        vertical-align: top;\n",
       "    }\n",
       "\n",
       "    .dataframe thead th {\n",
       "        text-align: right;\n",
       "    }\n",
       "</style>\n",
       "<table border=\"1\" class=\"dataframe\">\n",
       "  <thead>\n",
       "    <tr style=\"text-align: right;\">\n",
       "      <th></th>\n",
       "      <th>PassengerId</th>\n",
       "      <th>Survived</th>\n",
       "      <th>Pclass</th>\n",
       "      <th>Name</th>\n",
       "      <th>Sex</th>\n",
       "      <th>Age</th>\n",
       "      <th>SibSp</th>\n",
       "      <th>Parch</th>\n",
       "      <th>Ticket</th>\n",
       "      <th>Fare</th>\n",
       "      <th>Cabin</th>\n",
       "      <th>Embarked</th>\n",
       "    </tr>\n",
       "  </thead>\n",
       "  <tbody>\n",
       "    <tr>\n",
       "      <th>0</th>\n",
       "      <td>1</td>\n",
       "      <td>0</td>\n",
       "      <td>3</td>\n",
       "      <td>Braund, Mr. Owen Harris</td>\n",
       "      <td>male</td>\n",
       "      <td>22.0</td>\n",
       "      <td>1</td>\n",
       "      <td>0</td>\n",
       "      <td>A/5 21171</td>\n",
       "      <td>7.2500</td>\n",
       "      <td>NaN</td>\n",
       "      <td>S</td>\n",
       "    </tr>\n",
       "    <tr>\n",
       "      <th>1</th>\n",
       "      <td>2</td>\n",
       "      <td>1</td>\n",
       "      <td>1</td>\n",
       "      <td>Cumings, Mrs. John Bradley (Florence Briggs Th...</td>\n",
       "      <td>female</td>\n",
       "      <td>38.0</td>\n",
       "      <td>1</td>\n",
       "      <td>0</td>\n",
       "      <td>PC 17599</td>\n",
       "      <td>71.2833</td>\n",
       "      <td>C85</td>\n",
       "      <td>C</td>\n",
       "    </tr>\n",
       "    <tr>\n",
       "      <th>2</th>\n",
       "      <td>3</td>\n",
       "      <td>1</td>\n",
       "      <td>3</td>\n",
       "      <td>Heikkinen, Miss. Laina</td>\n",
       "      <td>female</td>\n",
       "      <td>26.0</td>\n",
       "      <td>0</td>\n",
       "      <td>0</td>\n",
       "      <td>STON/O2. 3101282</td>\n",
       "      <td>7.9250</td>\n",
       "      <td>NaN</td>\n",
       "      <td>S</td>\n",
       "    </tr>\n",
       "    <tr>\n",
       "      <th>3</th>\n",
       "      <td>4</td>\n",
       "      <td>1</td>\n",
       "      <td>1</td>\n",
       "      <td>Futrelle, Mrs. Jacques Heath (Lily May Peel)</td>\n",
       "      <td>female</td>\n",
       "      <td>35.0</td>\n",
       "      <td>1</td>\n",
       "      <td>0</td>\n",
       "      <td>113803</td>\n",
       "      <td>53.1000</td>\n",
       "      <td>C123</td>\n",
       "      <td>S</td>\n",
       "    </tr>\n",
       "    <tr>\n",
       "      <th>4</th>\n",
       "      <td>5</td>\n",
       "      <td>0</td>\n",
       "      <td>3</td>\n",
       "      <td>Allen, Mr. William Henry</td>\n",
       "      <td>male</td>\n",
       "      <td>35.0</td>\n",
       "      <td>0</td>\n",
       "      <td>0</td>\n",
       "      <td>373450</td>\n",
       "      <td>8.0500</td>\n",
       "      <td>NaN</td>\n",
       "      <td>S</td>\n",
       "    </tr>\n",
       "    <tr>\n",
       "      <th>...</th>\n",
       "      <td>...</td>\n",
       "      <td>...</td>\n",
       "      <td>...</td>\n",
       "      <td>...</td>\n",
       "      <td>...</td>\n",
       "      <td>...</td>\n",
       "      <td>...</td>\n",
       "      <td>...</td>\n",
       "      <td>...</td>\n",
       "      <td>...</td>\n",
       "      <td>...</td>\n",
       "      <td>...</td>\n",
       "    </tr>\n",
       "    <tr>\n",
       "      <th>886</th>\n",
       "      <td>887</td>\n",
       "      <td>0</td>\n",
       "      <td>2</td>\n",
       "      <td>Montvila, Rev. Juozas</td>\n",
       "      <td>male</td>\n",
       "      <td>27.0</td>\n",
       "      <td>0</td>\n",
       "      <td>0</td>\n",
       "      <td>211536</td>\n",
       "      <td>13.0000</td>\n",
       "      <td>NaN</td>\n",
       "      <td>S</td>\n",
       "    </tr>\n",
       "    <tr>\n",
       "      <th>887</th>\n",
       "      <td>888</td>\n",
       "      <td>1</td>\n",
       "      <td>1</td>\n",
       "      <td>Graham, Miss. Margaret Edith</td>\n",
       "      <td>female</td>\n",
       "      <td>19.0</td>\n",
       "      <td>0</td>\n",
       "      <td>0</td>\n",
       "      <td>112053</td>\n",
       "      <td>30.0000</td>\n",
       "      <td>B42</td>\n",
       "      <td>S</td>\n",
       "    </tr>\n",
       "    <tr>\n",
       "      <th>888</th>\n",
       "      <td>889</td>\n",
       "      <td>0</td>\n",
       "      <td>3</td>\n",
       "      <td>Johnston, Miss. Catherine Helen \"Carrie\"</td>\n",
       "      <td>female</td>\n",
       "      <td>NaN</td>\n",
       "      <td>1</td>\n",
       "      <td>2</td>\n",
       "      <td>W./C. 6607</td>\n",
       "      <td>23.4500</td>\n",
       "      <td>NaN</td>\n",
       "      <td>S</td>\n",
       "    </tr>\n",
       "    <tr>\n",
       "      <th>889</th>\n",
       "      <td>890</td>\n",
       "      <td>1</td>\n",
       "      <td>1</td>\n",
       "      <td>Behr, Mr. Karl Howell</td>\n",
       "      <td>male</td>\n",
       "      <td>26.0</td>\n",
       "      <td>0</td>\n",
       "      <td>0</td>\n",
       "      <td>111369</td>\n",
       "      <td>30.0000</td>\n",
       "      <td>C148</td>\n",
       "      <td>C</td>\n",
       "    </tr>\n",
       "    <tr>\n",
       "      <th>890</th>\n",
       "      <td>891</td>\n",
       "      <td>0</td>\n",
       "      <td>3</td>\n",
       "      <td>Dooley, Mr. Patrick</td>\n",
       "      <td>male</td>\n",
       "      <td>32.0</td>\n",
       "      <td>0</td>\n",
       "      <td>0</td>\n",
       "      <td>370376</td>\n",
       "      <td>7.7500</td>\n",
       "      <td>NaN</td>\n",
       "      <td>Q</td>\n",
       "    </tr>\n",
       "  </tbody>\n",
       "</table>\n",
       "<p>891 rows × 12 columns</p>\n",
       "</div>"
      ],
      "text/plain": [
       "     PassengerId  Survived  Pclass  ...     Fare Cabin  Embarked\n",
       "0              1         0       3  ...   7.2500   NaN         S\n",
       "1              2         1       1  ...  71.2833   C85         C\n",
       "2              3         1       3  ...   7.9250   NaN         S\n",
       "3              4         1       1  ...  53.1000  C123         S\n",
       "4              5         0       3  ...   8.0500   NaN         S\n",
       "..           ...       ...     ...  ...      ...   ...       ...\n",
       "886          887         0       2  ...  13.0000   NaN         S\n",
       "887          888         1       1  ...  30.0000   B42         S\n",
       "888          889         0       3  ...  23.4500   NaN         S\n",
       "889          890         1       1  ...  30.0000  C148         C\n",
       "890          891         0       3  ...   7.7500   NaN         Q\n",
       "\n",
       "[891 rows x 12 columns]"
      ]
     },
     "execution_count": 5,
     "metadata": {
      "tags": []
     },
     "output_type": "execute_result"
    }
   ],
   "source": [
    "train"
   ]
  },
  {
   "cell_type": "code",
   "execution_count": 0,
   "metadata": {
    "colab": {},
    "colab_type": "code",
    "id": "-6WPSNGc-m0J"
   },
   "outputs": [],
   "source": [
    "# ADICIONANDO NOVAS VARIAVEIS NA BASE DE TREINO\n",
    "train['Embarked_S'] = (train['Embarked'] == 'S').astype(int)\n",
    "train['Embarked_C'] = (train['Embarked'] == 'C').astype(int)\n",
    "train['Embarked_Q'] = (train['Embarked'] == 'Q').astype(int)\n",
    "# ADICIONANDO NOVAS VARIAVEIS NA BASE DE TESTE\n",
    "test['Embarked_S'] = (test['Embarked'] == 'S').astype(int)\n",
    "test['Embarked_C'] = (test['Embarked'] == 'C').astype(int)\n",
    "test['Embarked_Q'] = (test['Embarked'] == 'Q').astype(int)"
   ]
  },
  {
   "cell_type": "code",
   "execution_count": 0,
   "metadata": {
    "colab": {},
    "colab_type": "code",
    "id": "-kNNRSK705bI"
   },
   "outputs": [],
   "source": [
    "train['Cabin_nula'] = train['Cabin'].isnull().astype(int)\n",
    "test['Cabin_nula'] = test['Cabin'].isnull().astype(int)"
   ]
  },
  {
   "cell_type": "code",
   "execution_count": 0,
   "metadata": {
    "colab": {},
    "colab_type": "code",
    "id": "IKEtP6-L7MSE"
   },
   "outputs": [],
   "source": [
    "# SELECIONANDO AS VARIAVEIS DA BASE DE TREINO.\n",
    "variaveis_treino = ['Pclass','Sex','Age','SibSp','Parch','Fare','Cabin_nula','Embarked_S','Embarked_C','Embarked_Q','Survived']\n",
    "\n",
    "# SELECIONANDO AS VARIAVEIS DA BASE DE TESTE\n",
    "variaveis_test = ['Pclass','Sex','Age','SibSp','Parch','Fare','Cabin_nula','Embarked_S','Embarked_C','Embarked_Q']"
   ]
  },
  {
   "cell_type": "code",
   "execution_count": 0,
   "metadata": {
    "colab": {
     "base_uri": "https://localhost:8080/",
     "height": 407
    },
    "colab_type": "code",
    "executionInfo": {
     "elapsed": 641,
     "status": "ok",
     "timestamp": 1590863999543,
     "user": {
      "displayName": "Rafael A. L. Alves",
      "photoUrl": "https://lh3.googleusercontent.com/a-/AOh14GiZ6qN6sSQySXTuiKphHC6yJ5ujEhL-6oXqcgIq=s64",
      "userId": "04648053621155783581"
     },
     "user_tz": 180
    },
    "id": "E4zLLlCNJBQ5",
    "outputId": "cb9ad7ca-0d23-4146-db62-e2d47c143b27"
   },
   "outputs": [
    {
     "data": {
      "text/html": [
       "<div>\n",
       "<style scoped>\n",
       "    .dataframe tbody tr th:only-of-type {\n",
       "        vertical-align: middle;\n",
       "    }\n",
       "\n",
       "    .dataframe tbody tr th {\n",
       "        vertical-align: top;\n",
       "    }\n",
       "\n",
       "    .dataframe thead th {\n",
       "        text-align: right;\n",
       "    }\n",
       "</style>\n",
       "<table border=\"1\" class=\"dataframe\">\n",
       "  <thead>\n",
       "    <tr style=\"text-align: right;\">\n",
       "      <th></th>\n",
       "      <th>Pclass</th>\n",
       "      <th>Sex</th>\n",
       "      <th>Age</th>\n",
       "      <th>SibSp</th>\n",
       "      <th>Parch</th>\n",
       "      <th>Fare</th>\n",
       "      <th>Cabin_nula</th>\n",
       "      <th>Embarked_S</th>\n",
       "      <th>Embarked_C</th>\n",
       "      <th>Embarked_Q</th>\n",
       "    </tr>\n",
       "  </thead>\n",
       "  <tbody>\n",
       "    <tr>\n",
       "      <th>0</th>\n",
       "      <td>3</td>\n",
       "      <td>male</td>\n",
       "      <td>34.5</td>\n",
       "      <td>0</td>\n",
       "      <td>0</td>\n",
       "      <td>7.8292</td>\n",
       "      <td>1</td>\n",
       "      <td>0</td>\n",
       "      <td>0</td>\n",
       "      <td>1</td>\n",
       "    </tr>\n",
       "    <tr>\n",
       "      <th>1</th>\n",
       "      <td>3</td>\n",
       "      <td>female</td>\n",
       "      <td>47.0</td>\n",
       "      <td>1</td>\n",
       "      <td>0</td>\n",
       "      <td>7.0000</td>\n",
       "      <td>1</td>\n",
       "      <td>1</td>\n",
       "      <td>0</td>\n",
       "      <td>0</td>\n",
       "    </tr>\n",
       "    <tr>\n",
       "      <th>2</th>\n",
       "      <td>2</td>\n",
       "      <td>male</td>\n",
       "      <td>62.0</td>\n",
       "      <td>0</td>\n",
       "      <td>0</td>\n",
       "      <td>9.6875</td>\n",
       "      <td>1</td>\n",
       "      <td>0</td>\n",
       "      <td>0</td>\n",
       "      <td>1</td>\n",
       "    </tr>\n",
       "    <tr>\n",
       "      <th>3</th>\n",
       "      <td>3</td>\n",
       "      <td>male</td>\n",
       "      <td>27.0</td>\n",
       "      <td>0</td>\n",
       "      <td>0</td>\n",
       "      <td>8.6625</td>\n",
       "      <td>1</td>\n",
       "      <td>1</td>\n",
       "      <td>0</td>\n",
       "      <td>0</td>\n",
       "    </tr>\n",
       "    <tr>\n",
       "      <th>4</th>\n",
       "      <td>3</td>\n",
       "      <td>female</td>\n",
       "      <td>22.0</td>\n",
       "      <td>1</td>\n",
       "      <td>1</td>\n",
       "      <td>12.2875</td>\n",
       "      <td>1</td>\n",
       "      <td>1</td>\n",
       "      <td>0</td>\n",
       "      <td>0</td>\n",
       "    </tr>\n",
       "    <tr>\n",
       "      <th>...</th>\n",
       "      <td>...</td>\n",
       "      <td>...</td>\n",
       "      <td>...</td>\n",
       "      <td>...</td>\n",
       "      <td>...</td>\n",
       "      <td>...</td>\n",
       "      <td>...</td>\n",
       "      <td>...</td>\n",
       "      <td>...</td>\n",
       "      <td>...</td>\n",
       "    </tr>\n",
       "    <tr>\n",
       "      <th>413</th>\n",
       "      <td>3</td>\n",
       "      <td>male</td>\n",
       "      <td>NaN</td>\n",
       "      <td>0</td>\n",
       "      <td>0</td>\n",
       "      <td>8.0500</td>\n",
       "      <td>1</td>\n",
       "      <td>1</td>\n",
       "      <td>0</td>\n",
       "      <td>0</td>\n",
       "    </tr>\n",
       "    <tr>\n",
       "      <th>414</th>\n",
       "      <td>1</td>\n",
       "      <td>female</td>\n",
       "      <td>39.0</td>\n",
       "      <td>0</td>\n",
       "      <td>0</td>\n",
       "      <td>108.9000</td>\n",
       "      <td>0</td>\n",
       "      <td>0</td>\n",
       "      <td>1</td>\n",
       "      <td>0</td>\n",
       "    </tr>\n",
       "    <tr>\n",
       "      <th>415</th>\n",
       "      <td>3</td>\n",
       "      <td>male</td>\n",
       "      <td>38.5</td>\n",
       "      <td>0</td>\n",
       "      <td>0</td>\n",
       "      <td>7.2500</td>\n",
       "      <td>1</td>\n",
       "      <td>1</td>\n",
       "      <td>0</td>\n",
       "      <td>0</td>\n",
       "    </tr>\n",
       "    <tr>\n",
       "      <th>416</th>\n",
       "      <td>3</td>\n",
       "      <td>male</td>\n",
       "      <td>NaN</td>\n",
       "      <td>0</td>\n",
       "      <td>0</td>\n",
       "      <td>8.0500</td>\n",
       "      <td>1</td>\n",
       "      <td>1</td>\n",
       "      <td>0</td>\n",
       "      <td>0</td>\n",
       "    </tr>\n",
       "    <tr>\n",
       "      <th>417</th>\n",
       "      <td>3</td>\n",
       "      <td>male</td>\n",
       "      <td>NaN</td>\n",
       "      <td>1</td>\n",
       "      <td>1</td>\n",
       "      <td>22.3583</td>\n",
       "      <td>1</td>\n",
       "      <td>0</td>\n",
       "      <td>1</td>\n",
       "      <td>0</td>\n",
       "    </tr>\n",
       "  </tbody>\n",
       "</table>\n",
       "<p>418 rows × 10 columns</p>\n",
       "</div>"
      ],
      "text/plain": [
       "     Pclass     Sex   Age  ...  Embarked_S  Embarked_C  Embarked_Q\n",
       "0         3    male  34.5  ...           0           0           1\n",
       "1         3  female  47.0  ...           1           0           0\n",
       "2         2    male  62.0  ...           0           0           1\n",
       "3         3    male  27.0  ...           1           0           0\n",
       "4         3  female  22.0  ...           1           0           0\n",
       "..      ...     ...   ...  ...         ...         ...         ...\n",
       "413       3    male   NaN  ...           1           0           0\n",
       "414       1  female  39.0  ...           0           1           0\n",
       "415       3    male  38.5  ...           1           0           0\n",
       "416       3    male   NaN  ...           1           0           0\n",
       "417       3    male   NaN  ...           0           1           0\n",
       "\n",
       "[418 rows x 10 columns]"
      ]
     },
     "execution_count": 9,
     "metadata": {
      "tags": []
     },
     "output_type": "execute_result"
    }
   ],
   "source": [
    "# ATRIBUINDO AS VARIAVEIS PARA OS DATASETS.\n",
    "train = train[variaveis_treino]\n",
    "dados_test = test[variaveis_test]\n",
    "dados_test"
   ]
  },
  {
   "cell_type": "code",
   "execution_count": 0,
   "metadata": {
    "colab": {
     "base_uri": "https://localhost:8080/",
     "height": 419
    },
    "colab_type": "code",
    "executionInfo": {
     "elapsed": 2986,
     "status": "ok",
     "timestamp": 1587216674679,
     "user": {
      "displayName": "Rafael Lopes",
      "photoUrl": "https://lh3.googleusercontent.com/a-/AOh14GiZ6qN6sSQySXTuiKphHC6yJ5ujEhL-6oXqcgIq=s64",
      "userId": "04648053621155783581"
     },
     "user_tz": 180
    },
    "id": "aacs1ty0fmKd",
    "outputId": "0ea00756-55e1-4ee8-a3ee-124be070abe7"
   },
   "outputs": [
    {
     "data": {
      "text/html": [
       "<div>\n",
       "<style scoped>\n",
       "    .dataframe tbody tr th:only-of-type {\n",
       "        vertical-align: middle;\n",
       "    }\n",
       "\n",
       "    .dataframe tbody tr th {\n",
       "        vertical-align: top;\n",
       "    }\n",
       "\n",
       "    .dataframe thead th {\n",
       "        text-align: right;\n",
       "    }\n",
       "</style>\n",
       "<table border=\"1\" class=\"dataframe\">\n",
       "  <thead>\n",
       "    <tr style=\"text-align: right;\">\n",
       "      <th></th>\n",
       "      <th>Pclass</th>\n",
       "      <th>Sex</th>\n",
       "      <th>Age</th>\n",
       "      <th>SibSp</th>\n",
       "      <th>Parch</th>\n",
       "      <th>Fare</th>\n",
       "      <th>Cabin_nula</th>\n",
       "      <th>Embarked_S</th>\n",
       "      <th>Embarked_C</th>\n",
       "      <th>Embarked_Q</th>\n",
       "      <th>Survived</th>\n",
       "    </tr>\n",
       "  </thead>\n",
       "  <tbody>\n",
       "    <tr>\n",
       "      <th>0</th>\n",
       "      <td>3</td>\n",
       "      <td>male</td>\n",
       "      <td>22.0</td>\n",
       "      <td>1</td>\n",
       "      <td>0</td>\n",
       "      <td>7.2500</td>\n",
       "      <td>1</td>\n",
       "      <td>1</td>\n",
       "      <td>0</td>\n",
       "      <td>0</td>\n",
       "      <td>0</td>\n",
       "    </tr>\n",
       "    <tr>\n",
       "      <th>1</th>\n",
       "      <td>1</td>\n",
       "      <td>female</td>\n",
       "      <td>38.0</td>\n",
       "      <td>1</td>\n",
       "      <td>0</td>\n",
       "      <td>71.2833</td>\n",
       "      <td>0</td>\n",
       "      <td>0</td>\n",
       "      <td>1</td>\n",
       "      <td>0</td>\n",
       "      <td>1</td>\n",
       "    </tr>\n",
       "    <tr>\n",
       "      <th>2</th>\n",
       "      <td>3</td>\n",
       "      <td>female</td>\n",
       "      <td>26.0</td>\n",
       "      <td>0</td>\n",
       "      <td>0</td>\n",
       "      <td>7.9250</td>\n",
       "      <td>1</td>\n",
       "      <td>1</td>\n",
       "      <td>0</td>\n",
       "      <td>0</td>\n",
       "      <td>1</td>\n",
       "    </tr>\n",
       "    <tr>\n",
       "      <th>3</th>\n",
       "      <td>1</td>\n",
       "      <td>female</td>\n",
       "      <td>35.0</td>\n",
       "      <td>1</td>\n",
       "      <td>0</td>\n",
       "      <td>53.1000</td>\n",
       "      <td>0</td>\n",
       "      <td>1</td>\n",
       "      <td>0</td>\n",
       "      <td>0</td>\n",
       "      <td>1</td>\n",
       "    </tr>\n",
       "    <tr>\n",
       "      <th>4</th>\n",
       "      <td>3</td>\n",
       "      <td>male</td>\n",
       "      <td>35.0</td>\n",
       "      <td>0</td>\n",
       "      <td>0</td>\n",
       "      <td>8.0500</td>\n",
       "      <td>1</td>\n",
       "      <td>1</td>\n",
       "      <td>0</td>\n",
       "      <td>0</td>\n",
       "      <td>0</td>\n",
       "    </tr>\n",
       "    <tr>\n",
       "      <th>...</th>\n",
       "      <td>...</td>\n",
       "      <td>...</td>\n",
       "      <td>...</td>\n",
       "      <td>...</td>\n",
       "      <td>...</td>\n",
       "      <td>...</td>\n",
       "      <td>...</td>\n",
       "      <td>...</td>\n",
       "      <td>...</td>\n",
       "      <td>...</td>\n",
       "      <td>...</td>\n",
       "    </tr>\n",
       "    <tr>\n",
       "      <th>886</th>\n",
       "      <td>2</td>\n",
       "      <td>male</td>\n",
       "      <td>27.0</td>\n",
       "      <td>0</td>\n",
       "      <td>0</td>\n",
       "      <td>13.0000</td>\n",
       "      <td>1</td>\n",
       "      <td>1</td>\n",
       "      <td>0</td>\n",
       "      <td>0</td>\n",
       "      <td>0</td>\n",
       "    </tr>\n",
       "    <tr>\n",
       "      <th>887</th>\n",
       "      <td>1</td>\n",
       "      <td>female</td>\n",
       "      <td>19.0</td>\n",
       "      <td>0</td>\n",
       "      <td>0</td>\n",
       "      <td>30.0000</td>\n",
       "      <td>0</td>\n",
       "      <td>1</td>\n",
       "      <td>0</td>\n",
       "      <td>0</td>\n",
       "      <td>1</td>\n",
       "    </tr>\n",
       "    <tr>\n",
       "      <th>888</th>\n",
       "      <td>3</td>\n",
       "      <td>female</td>\n",
       "      <td>NaN</td>\n",
       "      <td>1</td>\n",
       "      <td>2</td>\n",
       "      <td>23.4500</td>\n",
       "      <td>1</td>\n",
       "      <td>1</td>\n",
       "      <td>0</td>\n",
       "      <td>0</td>\n",
       "      <td>0</td>\n",
       "    </tr>\n",
       "    <tr>\n",
       "      <th>889</th>\n",
       "      <td>1</td>\n",
       "      <td>male</td>\n",
       "      <td>26.0</td>\n",
       "      <td>0</td>\n",
       "      <td>0</td>\n",
       "      <td>30.0000</td>\n",
       "      <td>0</td>\n",
       "      <td>0</td>\n",
       "      <td>1</td>\n",
       "      <td>0</td>\n",
       "      <td>1</td>\n",
       "    </tr>\n",
       "    <tr>\n",
       "      <th>890</th>\n",
       "      <td>3</td>\n",
       "      <td>male</td>\n",
       "      <td>32.0</td>\n",
       "      <td>0</td>\n",
       "      <td>0</td>\n",
       "      <td>7.7500</td>\n",
       "      <td>1</td>\n",
       "      <td>0</td>\n",
       "      <td>0</td>\n",
       "      <td>1</td>\n",
       "      <td>0</td>\n",
       "    </tr>\n",
       "  </tbody>\n",
       "</table>\n",
       "<p>891 rows × 11 columns</p>\n",
       "</div>"
      ],
      "text/plain": [
       "     Pclass     Sex   Age  SibSp  ...  Embarked_S  Embarked_C  Embarked_Q  Survived\n",
       "0         3    male  22.0      1  ...           1           0           0         0\n",
       "1         1  female  38.0      1  ...           0           1           0         1\n",
       "2         3  female  26.0      0  ...           1           0           0         1\n",
       "3         1  female  35.0      1  ...           1           0           0         1\n",
       "4         3    male  35.0      0  ...           1           0           0         0\n",
       "..      ...     ...   ...    ...  ...         ...         ...         ...       ...\n",
       "886       2    male  27.0      0  ...           1           0           0         0\n",
       "887       1  female  19.0      0  ...           1           0           0         1\n",
       "888       3  female   NaN      1  ...           1           0           0         0\n",
       "889       1    male  26.0      0  ...           0           1           0         1\n",
       "890       3    male  32.0      0  ...           0           0           1         0\n",
       "\n",
       "[891 rows x 11 columns]"
      ]
     },
     "execution_count": 9,
     "metadata": {
      "tags": []
     },
     "output_type": "execute_result"
    }
   ],
   "source": [
    "train"
   ]
  },
  {
   "cell_type": "code",
   "execution_count": 0,
   "metadata": {
    "colab": {},
    "colab_type": "code",
    "id": "YCHRpzBJLU0g"
   },
   "outputs": [],
   "source": [
    "# DIVISÃO DO DATASET ENTRE PREVISORES E CLASSE.\n",
    "previsores = train.iloc[: , 0:10].values\n",
    "classe = train.iloc[:, 10].values\n",
    "dados_test = dados_test.iloc[:, 0:10].values"
   ]
  },
  {
   "cell_type": "code",
   "execution_count": 0,
   "metadata": {
    "colab": {
     "base_uri": "https://localhost:8080/",
     "height": 136
    },
    "colab_type": "code",
    "executionInfo": {
     "elapsed": 2972,
     "status": "ok",
     "timestamp": 1587216674681,
     "user": {
      "displayName": "Rafael Lopes",
      "photoUrl": "https://lh3.googleusercontent.com/a-/AOh14GiZ6qN6sSQySXTuiKphHC6yJ5ujEhL-6oXqcgIq=s64",
      "userId": "04648053621155783581"
     },
     "user_tz": 180
    },
    "id": "BUxQFUF6f1qu",
    "outputId": "20d38ae9-41bf-41e6-e91f-3910bbfe3e3c"
   },
   "outputs": [
    {
     "data": {
      "text/plain": [
       "array([[3, 'male', 22.0, ..., 1, 0, 0],\n",
       "       [1, 'female', 38.0, ..., 0, 1, 0],\n",
       "       [3, 'female', 26.0, ..., 1, 0, 0],\n",
       "       ...,\n",
       "       [3, 'female', nan, ..., 1, 0, 0],\n",
       "       [1, 'male', 26.0, ..., 0, 1, 0],\n",
       "       [3, 'male', 32.0, ..., 0, 0, 1]], dtype=object)"
      ]
     },
     "execution_count": 11,
     "metadata": {
      "tags": []
     },
     "output_type": "execute_result"
    }
   ],
   "source": [
    "previsores"
   ]
  },
  {
   "cell_type": "code",
   "execution_count": 0,
   "metadata": {
    "colab": {
     "base_uri": "https://localhost:8080/",
     "height": 136
    },
    "colab_type": "code",
    "executionInfo": {
     "elapsed": 2962,
     "status": "ok",
     "timestamp": 1587216674682,
     "user": {
      "displayName": "Rafael Lopes",
      "photoUrl": "https://lh3.googleusercontent.com/a-/AOh14GiZ6qN6sSQySXTuiKphHC6yJ5ujEhL-6oXqcgIq=s64",
      "userId": "04648053621155783581"
     },
     "user_tz": 180
    },
    "id": "EikgwN2yadWe",
    "outputId": "f76f1630-b4b8-4589-d4af-6670eb829033"
   },
   "outputs": [
    {
     "data": {
      "text/plain": [
       "array([[3, 'male', 34.5, ..., 0, 0, 1],\n",
       "       [3, 'female', 47.0, ..., 1, 0, 0],\n",
       "       [2, 'male', 62.0, ..., 0, 0, 1],\n",
       "       ...,\n",
       "       [3, 'male', 38.5, ..., 1, 0, 0],\n",
       "       [3, 'male', nan, ..., 1, 0, 0],\n",
       "       [3, 'male', nan, ..., 0, 1, 0]], dtype=object)"
      ]
     },
     "execution_count": 12,
     "metadata": {
      "tags": []
     },
     "output_type": "execute_result"
    }
   ],
   "source": [
    "dados_test"
   ]
  },
  {
   "cell_type": "code",
   "execution_count": 0,
   "metadata": {
    "colab": {},
    "colab_type": "code",
    "id": "b8cu5Dr_QbsH"
   },
   "outputs": [],
   "source": [
    "# TRANSFORMANDO OS ATRIBUTOS\n",
    "from sklearn.preprocessing import LabelEncoder\n",
    "labelencoder_previsores = LabelEncoder()\n",
    "labelencoder_test = LabelEncoder()"
   ]
  },
  {
   "cell_type": "code",
   "execution_count": 0,
   "metadata": {
    "colab": {},
    "colab_type": "code",
    "id": "_EGMi0UcFkYD"
   },
   "outputs": [],
   "source": [
    "previsores[:,1] = labelencoder_previsores.fit_transform(previsores[:,1])"
   ]
  },
  {
   "cell_type": "code",
   "execution_count": 0,
   "metadata": {
    "colab": {},
    "colab_type": "code",
    "id": "vkottzKnBVM-"
   },
   "outputs": [],
   "source": [
    "dados_test[:,1] = labelencoder_test.fit_transform(dados_test[:,1])"
   ]
  },
  {
   "cell_type": "code",
   "execution_count": 0,
   "metadata": {
    "colab": {
     "base_uri": "https://localhost:8080/",
     "height": 136
    },
    "colab_type": "code",
    "executionInfo": {
     "elapsed": 3380,
     "status": "ok",
     "timestamp": 1587216675118,
     "user": {
      "displayName": "Rafael Lopes",
      "photoUrl": "https://lh3.googleusercontent.com/a-/AOh14GiZ6qN6sSQySXTuiKphHC6yJ5ujEhL-6oXqcgIq=s64",
      "userId": "04648053621155783581"
     },
     "user_tz": 180
    },
    "id": "plMmhHCLOxD6",
    "outputId": "0ba31aaa-e109-405e-ce41-8d465e0c5d76"
   },
   "outputs": [
    {
     "data": {
      "text/plain": [
       "array([[3, 1, 34.5, ..., 0, 0, 1],\n",
       "       [3, 0, 47.0, ..., 1, 0, 0],\n",
       "       [2, 1, 62.0, ..., 0, 0, 1],\n",
       "       ...,\n",
       "       [3, 1, 38.5, ..., 1, 0, 0],\n",
       "       [3, 1, nan, ..., 1, 0, 0],\n",
       "       [3, 1, nan, ..., 0, 1, 0]], dtype=object)"
      ]
     },
     "execution_count": 16,
     "metadata": {
      "tags": []
     },
     "output_type": "execute_result"
    }
   ],
   "source": [
    "dados_test"
   ]
  },
  {
   "cell_type": "code",
   "execution_count": 0,
   "metadata": {
    "colab": {},
    "colab_type": "code",
    "id": "6f7IK829SiH2"
   },
   "outputs": [],
   "source": [
    "# TRATAMENTO DOS VALORES FALTANTES NA BASE DE TREINO.\n",
    "from sklearn.impute import SimpleImputer\n",
    "\n",
    "imputer = SimpleImputer(missing_values= np.nan, strategy= 'mean')\n",
    "imputer = imputer.fit(previsores)\n",
    "previsores = imputer.transform(previsores)"
   ]
  },
  {
   "cell_type": "code",
   "execution_count": 0,
   "metadata": {
    "colab": {},
    "colab_type": "code",
    "id": "INXeGqJyb41O"
   },
   "outputs": [],
   "source": [
    "# TRATAMENTO DOS VALORES FALTANTES NA BASE DE TESTE\n",
    "imputer_dados_test = SimpleImputer(missing_values = np.nan, strategy = 'mean')\n",
    "imputer_dados_test = imputer_dados_test.fit(dados_test)\n",
    "dados_test = imputer_dados_test.transform(dados_test)"
   ]
  },
  {
   "cell_type": "code",
   "execution_count": 0,
   "metadata": {
    "colab": {
     "base_uri": "https://localhost:8080/",
     "height": 238
    },
    "colab_type": "code",
    "executionInfo": {
     "elapsed": 3669,
     "status": "ok",
     "timestamp": 1587216675424,
     "user": {
      "displayName": "Rafael Lopes",
      "photoUrl": "https://lh3.googleusercontent.com/a-/AOh14GiZ6qN6sSQySXTuiKphHC6yJ5ujEhL-6oXqcgIq=s64",
      "userId": "04648053621155783581"
     },
     "user_tz": 180
    },
    "id": "wTWzoN35-wsb",
    "outputId": "a0c10ad9-dbd6-4d93-e91c-bb4d311ab061"
   },
   "outputs": [
    {
     "data": {
      "text/plain": [
       "array([[ 3.        ,  1.        , 22.        , ...,  1.        ,\n",
       "         0.        ,  0.        ],\n",
       "       [ 1.        ,  0.        , 38.        , ...,  0.        ,\n",
       "         1.        ,  0.        ],\n",
       "       [ 3.        ,  0.        , 26.        , ...,  1.        ,\n",
       "         0.        ,  0.        ],\n",
       "       ...,\n",
       "       [ 3.        ,  0.        , 29.69911765, ...,  1.        ,\n",
       "         0.        ,  0.        ],\n",
       "       [ 1.        ,  1.        , 26.        , ...,  0.        ,\n",
       "         1.        ,  0.        ],\n",
       "       [ 3.        ,  1.        , 32.        , ...,  0.        ,\n",
       "         0.        ,  1.        ]])"
      ]
     },
     "execution_count": 19,
     "metadata": {
      "tags": []
     },
     "output_type": "execute_result"
    }
   ],
   "source": [
    "previsores"
   ]
  },
  {
   "cell_type": "code",
   "execution_count": 0,
   "metadata": {
    "colab": {
     "base_uri": "https://localhost:8080/",
     "height": 238
    },
    "colab_type": "code",
    "executionInfo": {
     "elapsed": 3659,
     "status": "ok",
     "timestamp": 1587216675425,
     "user": {
      "displayName": "Rafael Lopes",
      "photoUrl": "https://lh3.googleusercontent.com/a-/AOh14GiZ6qN6sSQySXTuiKphHC6yJ5ujEhL-6oXqcgIq=s64",
      "userId": "04648053621155783581"
     },
     "user_tz": 180
    },
    "id": "iVvDxvdt283y",
    "outputId": "a94268ee-1710-481e-c68b-3f9dcde69753"
   },
   "outputs": [
    {
     "data": {
      "text/plain": [
       "array([[ 0.82737724,  0.73769513, -0.5924806 , ...,  0.61930636,\n",
       "        -0.48204268, -0.30756234],\n",
       "       [-1.56610693, -1.35557354,  0.63878901, ..., -1.61470971,\n",
       "         2.0745051 , -0.30756234],\n",
       "       [ 0.82737724, -1.35557354, -0.2846632 , ...,  0.61930636,\n",
       "        -0.48204268, -0.30756234],\n",
       "       ...,\n",
       "       [ 0.82737724, -1.35557354,  0.        , ...,  0.61930636,\n",
       "        -0.48204268, -0.30756234],\n",
       "       [-1.56610693,  0.73769513, -0.2846632 , ..., -1.61470971,\n",
       "         2.0745051 , -0.30756234],\n",
       "       [ 0.82737724,  0.73769513,  0.17706291, ..., -1.61470971,\n",
       "        -0.48204268,  3.25137334]])"
      ]
     },
     "execution_count": 20,
     "metadata": {
      "tags": []
     },
     "output_type": "execute_result"
    }
   ],
   "source": [
    "# ESCALONAMENTO DOS PREVISORES\n",
    "from sklearn.preprocessing import StandardScaler\n",
    "scaler = StandardScaler()\n",
    "previsores = scaler.fit_transform(previsores)\n",
    "previsores"
   ]
  },
  {
   "cell_type": "code",
   "execution_count": 0,
   "metadata": {
    "colab": {
     "base_uri": "https://localhost:8080/",
     "height": 238
    },
    "colab_type": "code",
    "executionInfo": {
     "elapsed": 3648,
     "status": "ok",
     "timestamp": 1587216675426,
     "user": {
      "displayName": "Rafael Lopes",
      "photoUrl": "https://lh3.googleusercontent.com/a-/AOh14GiZ6qN6sSQySXTuiKphHC6yJ5ujEhL-6oXqcgIq=s64",
      "userId": "04648053621155783581"
     },
     "user_tz": 180
    },
    "id": "UxggXGn7ch1E",
    "outputId": "a753e627-da9a-4093-ae67-5ada9222e99a"
   },
   "outputs": [
    {
     "data": {
      "text/plain": [
       "array([[ 0.87348191,  0.75592895,  0.3349926 , ..., -1.35067551,\n",
       "        -0.56814154,  2.84375747],\n",
       "       [ 0.87348191, -1.32287566,  1.32553003, ...,  0.74037028,\n",
       "        -0.56814154, -0.35164743],\n",
       "       [-0.31581919,  0.75592895,  2.51417495, ..., -1.35067551,\n",
       "        -0.56814154,  2.84375747],\n",
       "       ...,\n",
       "       [ 0.87348191,  0.75592895,  0.65196458, ...,  0.74037028,\n",
       "        -0.56814154, -0.35164743],\n",
       "       [ 0.87348191,  0.75592895,  0.        , ...,  0.74037028,\n",
       "        -0.56814154, -0.35164743],\n",
       "       [ 0.87348191,  0.75592895,  0.        , ..., -1.35067551,\n",
       "         1.76012477, -0.35164743]])"
      ]
     },
     "execution_count": 21,
     "metadata": {
      "tags": []
     },
     "output_type": "execute_result"
    }
   ],
   "source": [
    "# ESCALONAMENTO BASE DE TESTE\n",
    "dados_test = scaler.fit_transform(dados_test)\n",
    "dados_test"
   ]
  },
  {
   "cell_type": "markdown",
   "metadata": {
    "colab_type": "text",
    "id": "rKeF3sO52QK4"
   },
   "source": [
    "## Criação do Modelo"
   ]
  },
  {
   "cell_type": "markdown",
   "metadata": {
    "colab_type": "text",
    "id": "AI2bA31z332C"
   },
   "source": [
    "Validação Cruzada"
   ]
  },
  {
   "cell_type": "code",
   "execution_count": 0,
   "metadata": {
    "colab": {},
    "colab_type": "code",
    "id": "gK6Qoe4rVcxz"
   },
   "outputs": [],
   "source": [
    "from sklearn.model_selection import train_test_split\n",
    "previsores_treinamento, previsores_teste, classe_treinamento, classe_teste = train_test_split(previsores, classe, test_size=0.30, random_state=0) "
   ]
  },
  {
   "cell_type": "markdown",
   "metadata": {
    "colab_type": "text",
    "id": "EzevxNfVSKAY"
   },
   "source": [
    "Modelos"
   ]
  },
  {
   "cell_type": "code",
   "execution_count": 0,
   "metadata": {
    "colab": {},
    "colab_type": "code",
    "id": "bfZZoMJOw6F5"
   },
   "outputs": [],
   "source": [
    "# Randon Forest\n",
    "from sklearn.ensemble import RandomForestClassifier\n",
    "modelo = RandomForestClassifier(n_estimators=100, n_jobs=-1, random_state=0)"
   ]
  },
  {
   "cell_type": "code",
   "execution_count": 0,
   "metadata": {
    "colab": {},
    "colab_type": "code",
    "id": "dKe4rbAVxC7g"
   },
   "outputs": [],
   "source": [
    "# Rede Neural\n",
    "from sklearn.neural_network import MLPClassifier\n",
    "modelo = MLPClassifier(verbose = True,\n",
    "                              max_iter = 100,\n",
    "                              tol = 0.000010,\n",
    "                              solver = 'adam',\n",
    "                              hidden_layer_sizes = (100),\n",
    "                              activation = 'relu')\n"
   ]
  },
  {
   "cell_type": "code",
   "execution_count": 0,
   "metadata": {
    "colab": {},
    "colab_type": "code",
    "id": "vo80Et7txK5d"
   },
   "outputs": [],
   "source": [
    "#Decision Tree\n",
    "from sklearn.tree import DecisionTreeClassifier\n",
    "modelo = DecisionTreeClassifier(criterion='entropy', random_state=0)"
   ]
  },
  {
   "cell_type": "code",
   "execution_count": 0,
   "metadata": {
    "colab": {},
    "colab_type": "code",
    "id": "jW46QFwWxTiA"
   },
   "outputs": [],
   "source": [
    "#Regressão Logistica\n",
    "from sklearn.linear_model import LogisticRegression\n",
    "modelo = LogisticRegression(random_state= 1)"
   ]
  },
  {
   "cell_type": "code",
   "execution_count": 0,
   "metadata": {
    "colab": {},
    "colab_type": "code",
    "id": "_cRxOVOfxavK"
   },
   "outputs": [],
   "source": [
    "#SVM\n",
    "from sklearn.svm import SVC\n",
    "modelo = SVC(kernel='linear', random_state=1)"
   ]
  },
  {
   "cell_type": "code",
   "execution_count": 0,
   "metadata": {
    "colab": {},
    "colab_type": "code",
    "id": "tKmbF10VxfXk"
   },
   "outputs": [],
   "source": [
    "#KNN\n",
    "from sklearn.neighbors import KNeighborsClassifier\n",
    "modelo = KNeighborsClassifier(n_neighbors= 5, metric='minkowski', p=2)"
   ]
  },
  {
   "cell_type": "code",
   "execution_count": 0,
   "metadata": {
    "colab": {},
    "colab_type": "code",
    "id": "yPYT0_d9xnWg"
   },
   "outputs": [],
   "source": [
    "#Naive Bayes\n",
    "from sklearn.naive_bayes import GaussianNB\n",
    "modelo = GaussianNB()"
   ]
  },
  {
   "cell_type": "markdown",
   "metadata": {
    "colab_type": "text",
    "id": "rGKWNJeMxyqo"
   },
   "source": [
    "Treino"
   ]
  },
  {
   "cell_type": "code",
   "execution_count": 0,
   "metadata": {
    "colab": {},
    "colab_type": "code",
    "id": "ZgkOOUiPLQOA"
   },
   "outputs": [],
   "source": [
    "#TREINO MODELO DE TESTES\n",
    "modelo.fit(previsores_treinamento, classe_treinamento)\n",
    "previsoes = modelo.predict(previsores_teste)"
   ]
  },
  {
   "cell_type": "code",
   "execution_count": 0,
   "metadata": {
    "colab": {},
    "colab_type": "code",
    "id": "CfkabwM2-9-X"
   },
   "outputs": [],
   "source": [
    "#TREINO MODELO FINAL\n",
    "modelo.fit(previsores, classe)\n",
    "p = modelo.predict(dados_test)"
   ]
  },
  {
   "cell_type": "markdown",
   "metadata": {
    "colab_type": "text",
    "id": "_ihsieGRx5ps"
   },
   "source": [
    "Validação"
   ]
  },
  {
   "cell_type": "code",
   "execution_count": 0,
   "metadata": {
    "colab": {
     "base_uri": "https://localhost:8080/",
     "height": 51
    },
    "colab_type": "code",
    "executionInfo": {
     "elapsed": 3907,
     "status": "ok",
     "timestamp": 1587216675719,
     "user": {
      "displayName": "Rafael Lopes",
      "photoUrl": "https://lh3.googleusercontent.com/a-/AOh14GiZ6qN6sSQySXTuiKphHC6yJ5ujEhL-6oXqcgIq=s64",
      "userId": "04648053621155783581"
     },
     "user_tz": 180
    },
    "id": "d_w3Mext4FJB",
    "outputId": "fe975c78-4f04-499c-c742-5ed2cb5b1ac7"
   },
   "outputs": [
    {
     "data": {
      "text/plain": [
       "array([[137,  31],\n",
       "       [ 25,  75]])"
      ]
     },
     "execution_count": 32,
     "metadata": {
      "tags": []
     },
     "output_type": "execute_result"
    }
   ],
   "source": [
    "# MATRIZ DE CONFUSÃO E ACURÁCIA DOS DADOS DE TESTES\n",
    "from sklearn.metrics import confusion_matrix, accuracy_score\n",
    "\n",
    "precisao = accuracy_score(classe_teste, previsoes)\n",
    "matriz = confusion_matrix(classe_teste, previsoes)\n",
    "matriz"
   ]
  },
  {
   "cell_type": "code",
   "execution_count": 0,
   "metadata": {
    "colab": {
     "base_uri": "https://localhost:8080/",
     "height": 34
    },
    "colab_type": "code",
    "executionInfo": {
     "elapsed": 3895,
     "status": "ok",
     "timestamp": 1587216675719,
     "user": {
      "displayName": "Rafael Lopes",
      "photoUrl": "https://lh3.googleusercontent.com/a-/AOh14GiZ6qN6sSQySXTuiKphHC6yJ5ujEhL-6oXqcgIq=s64",
      "userId": "04648053621155783581"
     },
     "user_tz": 180
    },
    "id": "bL8XwuFC57qy",
    "outputId": "53844dda-a96d-4f5d-ccad-f4b56e48ef6c"
   },
   "outputs": [
    {
     "data": {
      "text/plain": [
       "0.7910447761194029"
      ]
     },
     "execution_count": 33,
     "metadata": {
      "tags": []
     },
     "output_type": "execute_result"
    }
   ],
   "source": [
    "precisao"
   ]
  },
  {
   "cell_type": "markdown",
   "metadata": {
    "colab_type": "text",
    "id": "TnF7IAtu3uNZ"
   },
   "source": [
    "## Criar Submission\n"
   ]
  },
  {
   "cell_type": "code",
   "execution_count": 0,
   "metadata": {
    "colab": {
     "base_uri": "https://localhost:8080/",
     "height": 34
    },
    "colab_type": "code",
    "executionInfo": {
     "elapsed": 3887,
     "status": "ok",
     "timestamp": 1587216675721,
     "user": {
      "displayName": "Rafael Lopes",
      "photoUrl": "https://lh3.googleusercontent.com/a-/AOh14GiZ6qN6sSQySXTuiKphHC6yJ5ujEhL-6oXqcgIq=s64",
      "userId": "04648053621155783581"
     },
     "user_tz": 180
    },
    "id": "DuYDCN_d6UbF",
    "outputId": "bb45515f-9a3a-4f90-92ab-124dffa085e4"
   },
   "outputs": [
    {
     "data": {
      "text/plain": [
       "(418,)"
      ]
     },
     "execution_count": 34,
     "metadata": {
      "tags": []
     },
     "output_type": "execute_result"
    }
   ],
   "source": [
    "# CRIAR O CAMPO 'Surived' DOS DADOS DE TESTE PARA ENVIAR PARA O KAGGLE.\n",
    "sub = pd.Series(p, index=test['PassengerId'], name='Survived')\n",
    "sub.shape"
   ]
  },
  {
   "cell_type": "code",
   "execution_count": 0,
   "metadata": {
    "colab": {},
    "colab_type": "code",
    "id": "mP35hClM4Oa-"
   },
   "outputs": [],
   "source": [
    "sub.to_csv(\"RandonForest.csv\",header=True)"
   ]
  },
  {
   "cell_type": "markdown",
   "metadata": {
    "colab_type": "text",
    "id": "Sjh8Gk4xBUxb"
   },
   "source": [
    "### **Resultados**\n",
    "---\n",
    "Randon Forest - 0.8385650224215246 | Melhorando o escalonamento - 0.8430493273542601 | Resultado Kaggle 0.76076\n",
    "\n",
    "MLPClassifier - 0.8071748878923767 | Melhorando o escalonamento - 0.8295964125560538 | Resultado Kaggle 0.78468\n",
    "\n",
    "DecisionTree - 0.7668161434977578\n",
    "\n",
    "LogisticRegression - 0.7937219730941704\n",
    "\n",
    "SVM - 0.7802690582959642\n",
    "\n",
    "KNN - 0.7982062780269058\n",
    "\n",
    "Naive Bayes - 0.7802690582959642\n"
   ]
  }
 ],
 "metadata": {
  "colab": {
   "authorship_tag": "ABX9TyOrqH09EqyqWlhE8B8yBMVK",
   "collapsed_sections": [],
   "mount_file_id": "1Gxs8RsAefzb0qvOyna74CP9kzoiyErX2",
   "name": "titanic-kaggle.ipynb",
   "provenance": []
  },
  "kernelspec": {
   "display_name": "Python 3",
   "language": "python",
   "name": "python3"
  },
  "language_info": {
   "codemirror_mode": {
    "name": "ipython",
    "version": 3
   },
   "file_extension": ".py",
   "mimetype": "text/x-python",
   "name": "python",
   "nbconvert_exporter": "python",
   "pygments_lexer": "ipython3",
   "version": "3.7.4"
  }
 },
 "nbformat": 4,
 "nbformat_minor": 1
}
